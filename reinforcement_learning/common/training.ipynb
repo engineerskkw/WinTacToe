{
 "cells": [
  {
   "cell_type": "code",
   "execution_count": null,
   "metadata": {},
   "outputs": [],
   "source": [
    "#BEGIN--------------------PROJECT-ROOT-PATH-APPENDING-------------------------#\n",
    "import sys, os\n",
    "REL_PROJECT_ROOT_PATH = \"../../\"\n",
    "ABS_FILE_DIR = os.path.abspath(os.getcwd())\n",
    "ABS_PROJECT_ROOT_PATH = os.path.normpath(os.path.join(ABS_FILE_DIR, REL_PROJECT_ROOT_PATH))\n",
    "sys.path.append(ABS_PROJECT_ROOT_PATH)\n",
    "#-------------------------PROJECT-ROOT-PATH-APPENDING----------------------END#"
   ]
  },
  {
   "cell_type": "code",
   "execution_count": null,
   "metadata": {},
   "outputs": [],
   "source": [
    "ABS_PROJECT_ROOT_PATH"
   ]
  },
  {
   "cell_type": "code",
   "execution_count": null,
   "metadata": {},
   "outputs": [],
   "source": [
    "import matplotlib\n",
    "import matplotlib.pyplot as plt\n",
    "import numpy as np"
   ]
  },
  {
   "cell_type": "code",
   "execution_count": null,
   "metadata": {},
   "outputs": [],
   "source": [
    "from environments.tic_tac_toe.tic_tac_toe_engine import TicTacToeEngine\n",
    "from reinforcement_learning.base.base_agent import BaseAgent\n",
    "from reinforcement_learning.agents.basic_mc_agent.basic_mc_agent import BasicAgent\n",
    "from reinforcement_learning.agents.random_agent.random_agent import RandomAgent\n",
    "from reinforcement_learning.agents.n_step_agent.n_step_agent import NStepAgent\n",
    "from reinforcement_learning.agents.q_learning_agent.q_learning_agent import QLearningAgent\n",
    "from reinforcement_learning.common.simple_training import SimpleTraining\n",
    "from reinforcement_learning.agents.common.agent_utils import bucketify\n",
    "import time"
   ]
  },
  {
   "cell_type": "code",
   "execution_count": null,
   "metadata": {},
   "outputs": [],
   "source": [
    "# Loading\n",
    "# # You can also load previously saved agents from files:\n",
    "# agent_0_file_path = os.path.join(ABS_PROJECT_ROOT_PATH, \"training_platform\", \"examples\", \"agent0.ai\")\n",
    "# agent_1_file_path = os.path.join(ABS_PROJECT_ROOT_PATH, \"training_platform\", \"examples\", \"agent1.ai\")\n",
    "# agents_file_paths = [agent_0_file_path, agent_1_file_path]\n",
    "# agents = [BaseAgent.load(file_path) for file_path in agents_file_paths]\n",
    "\n",
    "# Saving\n",
    "# [agent.save(file_path) for (agent, file_path) in zip(agents, agents_file_paths)]"
   ]
  },
  {
   "cell_type": "code",
   "execution_count": null,
   "metadata": {},
   "outputs": [],
   "source": [
    "engine = TicTacToeEngine(2, 3, 3)"
   ]
  },
  {
   "cell_type": "code",
   "execution_count": null,
   "metadata": {},
   "outputs": [],
   "source": [
    "# learning_agent = QLearningAgent(0.3,0.1,0.9)\n",
    "learning_agent = BasicAgent(0.1)\n",
    "agents = [RandomAgent(), learning_agent]"
   ]
  },
  {
   "cell_type": "code",
   "execution_count": null,
   "metadata": {},
   "outputs": [],
   "source": [
    "# Training\n",
    "for i in range(10):\n",
    "    number_of_episodes = 10000\n",
    "    with SimpleTraining(engine, agents) as st:\n",
    "        agents = st.train(number_of_episodes)\n",
    "    # Plotting\n",
    "    [plt.plot(bucketify(agent.get_episodes_returns(), 100, np.mean)) for agent in agents]\n",
    "    plt.gca().legend((\"Random Idtiot XD\", \"Mighty Q Learning Agent\"))\n",
    "    plt.show()\n",
    "    # Saving\n",
    "    agent_0_file_path = os.path.join(ABS_PROJECT_ROOT_PATH, \"reinforcement_learning\", \"common\", f\"agent0_{i}.ai\")\n",
    "    agent_1_file_path = os.path.join(ABS_PROJECT_ROOT_PATH, \"reinforcement_learning\", \"common\", f\"agent1_{i}.ai\")\n",
    "    agents_file_paths = [agent_0_file_path, agent_1_file_path]\n",
    "    [agent.save(file_path) for (agent, file_path) in zip(agents, agents_file_paths)]"
   ]
  },
  {
   "cell_type": "code",
   "execution_count": null,
   "metadata": {},
   "outputs": [],
   "source": [
    "agents[1].epsilon = 0\n",
    "number_of_episodes = 20000\n",
    "with SimpleTraining(engine, agents) as st:\n",
    "    agents = st.train(number_of_episodes)\n",
    "# Plotting\n",
    "[plt.plot(bucketify(agent.get_episodes_returns(), 120, np.mean)) for agent in agents]\n",
    "plt.gca().legend((\"Random Idtiot XD\", \"Mighty Q Learning Agent\"))\n",
    "plt.show()\n",
    "# Saving\n",
    "agent_0_file_path = os.path.join(ABS_PROJECT_ROOT_PATH, \"reinforcement_learning\", \"common\", f\"agent0_final.ai\")\n",
    "agent_1_file_path = os.path.join(ABS_PROJECT_ROOT_PATH, \"reinforcement_learning\", \"common\", f\"agent1_final.ai\")\n",
    "agents_file_paths = [agent_0_file_path, agent_1_file_path]\n",
    "[agent.save(file_path) for (agent, file_path) in zip(agents, agents_file_paths)]"
   ]
  },
  {
   "cell_type": "code",
   "execution_count": null,
   "metadata": {
    "scrolled": true
   },
   "outputs": [],
   "source": [
    "agents[1].action_value"
   ]
  },
  {
   "cell_type": "code",
   "execution_count": null,
   "metadata": {},
   "outputs": [],
   "source": [
    "agents[1].policy"
   ]
  },
  {
   "cell_type": "code",
   "execution_count": null,
   "metadata": {},
   "outputs": [],
   "source": [
    "print(agents[1].action_value)"
   ]
  },
  {
   "cell_type": "code",
   "execution_count": null,
   "metadata": {},
   "outputs": [],
   "source": [
    "print(agents[1].policy)"
   ]
  }
 ],
 "metadata": {
  "kernelspec": {
   "display_name": "Python3.7-WinTacToe",
   "language": "python",
   "name": "python3.7-wintactoe"
  },
  "language_info": {
   "codemirror_mode": {
    "name": "ipython",
    "version": 3
   },
   "file_extension": ".py",
   "mimetype": "text/x-python",
   "name": "python",
   "nbconvert_exporter": "python",
   "pygments_lexer": "ipython3",
   "version": "3.7.1"
  }
 },
 "nbformat": 4,
 "nbformat_minor": 2
}
