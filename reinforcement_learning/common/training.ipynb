{
 "cells": [
  {
   "cell_type": "code",
   "execution_count": 1,
   "metadata": {
    "pycharm": {
     "is_executing": false
    }
   },
   "outputs": [],
   "source": [
    "#BEGIN--------------------PROJECT-ROOT-PATH-APPENDING-------------------------#\n",
    "import sys, os\n",
    "REL_PROJECT_ROOT_PATH = \"../../\"\n",
    "ABS_FILE_DIR = os.path.abspath(os.getcwd())\n",
    "ABS_PROJECT_ROOT_PATH = os.path.normpath(os.path.join(ABS_FILE_DIR, REL_PROJECT_ROOT_PATH))\n",
    "sys.path.append(ABS_PROJECT_ROOT_PATH)\n",
    "#-------------------------PROJECT-ROOT-PATH-APPENDING----------------------END#"
   ]
  },
  {
   "cell_type": "code",
   "execution_count": 2,
   "metadata": {
    "pycharm": {
     "is_executing": false
    }
   },
   "outputs": [
    {
     "data": {
      "text/plain": [
       "'C:\\\\Users\\\\janka\\\\Desktop\\\\WinTacToe'"
      ]
     },
     "execution_count": 2,
     "metadata": {},
     "output_type": "execute_result"
    }
   ],
   "source": [
    "ABS_PROJECT_ROOT_PATH"
   ]
  },
  {
   "cell_type": "code",
   "execution_count": 3,
   "metadata": {
    "pycharm": {
     "is_executing": false
    }
   },
   "outputs": [],
   "source": [
    "import matplotlib\n",
    "import matplotlib.pyplot as plt\n",
    "import numpy as np"
   ]
  },
  {
   "cell_type": "code",
   "execution_count": 4,
   "metadata": {
    "pycharm": {
     "is_executing": false
    }
   },
   "outputs": [],
   "source": [
    "from environments.tic_tac_toe.tic_tac_toe_engine import TicTacToeEngine\n",
    "from reinforcement_learning.base.base_agent import BaseAgent\n",
    "from reinforcement_learning.agents.basic_mc_agent.basic_mc_agent import BasicAgent\n",
    "from reinforcement_learning.agents.random_agent.random_agent import RandomAgent\n",
    "from reinforcement_learning.agents.n_step_agent.n_step_agent import NStepAgent\n",
    "from reinforcement_learning.agents.q_learning_agent.q_learning_agent import QLearningAgent\n",
    "from reinforcement_learning.common.simple_training import SimpleTraining\n",
    "from reinforcement_learning.agents.common.agent_utils import bucketify\n",
    "import time"
   ]
  },
  {
   "cell_type": "code",
   "execution_count": 5,
   "metadata": {
    "pycharm": {
     "is_executing": false
    }
   },
   "outputs": [],
   "source": [
    "# Loading\n",
    "# # You can also load previously saved agents from files:\n",
    "# agent_0_file_path = os.path.join(ABS_PROJECT_ROOT_PATH, \"training_platform\", \"examples\", \"agent0.ai\")\n",
    "# agent_1_file_path = os.path.join(ABS_PROJECT_ROOT_PATH, \"training_platform\", \"examples\", \"agent1.ai\")\n",
    "# agents_file_paths = [agent_0_file_path, agent_1_file_path]\n",
    "# agents = [BaseAgent.load(file_path) for file_path in agents_file_paths]\n",
    "\n",
    "# Saving\n",
    "# [agent.save(file_path) for (agent, file_path) in zip(agents, agents_file_paths)]"
   ]
  },
  {
   "cell_type": "code",
   "execution_count": 6,
   "metadata": {
    "pycharm": {
     "is_executing": false
    }
   },
   "outputs": [],
   "source": [
    "engine = TicTacToeEngine(2, 3, 3)"
   ]
  },
  {
   "cell_type": "code",
   "execution_count": 18,
   "metadata": {
    "pycharm": {
     "is_executing": false
    }
   },
   "outputs": [],
   "source": [
    "learning_agent = QLearningAgent(0.3,0.1,0.9)\n",
    "# learning_agent = BasicAgent(0.1)\n",
    "agents = [RandomAgent(), learning_agent]"
   ]
  },
  {
   "cell_type": "code",
   "execution_count": 8,
   "metadata": {
    "pycharm": {
     "is_executing": false
    }
   },
   "outputs": [],
   "source": [
    "# # Training\n",
    "# for i in range(10):\n",
    "#     number_of_episodes = 10000\n",
    "#     with SimpleTraining(engine, agents) as st:\n",
    "#         agents = st.train(number_of_episodes)\n",
    "#     # Plotting\n",
    "#     [plt.plot(bucketify(agent.get_episodes_returns(), 100, np.mean)) for agent in agents]\n",
    "#     plt.gca().legend((\"Random Idtiot XD\", \"Mighty Q Learning Agent\"))\n",
    "#     plt.show()\n",
    "#     # Saving\n",
    "#     agent_0_file_path = os.path.join(ABS_PROJECT_ROOT_PATH, \"reinforcement_learning\", \"common\", f\"agent0_{i}.ai\")\n",
    "#     agent_1_file_path = os.path.join(ABS_PROJECT_ROOT_PATH, \"reinforcement_learning\", \"common\", f\"agent1_{i}.ai\")\n",
    "#     agents_file_paths = [agent_0_file_path, agent_1_file_path]\n",
    "#     [agent.save(file_path) for (agent, file_path) in zip(agents, agents_file_paths)]"
   ]
  },
  {
   "cell_type": "code",
   "execution_count": 9,
   "metadata": {
    "pycharm": {
     "is_executing": false
    }
   },
   "outputs": [],
   "source": [
    "# agents[1].epsilon = 0\n",
    "# number_of_episodes = 20000\n",
    "# with SimpleTraining(engine, agents) as st:\n",
    "#     agents = st.train(number_of_episodes)\n",
    "# # Plotting\n",
    "# [plt.plot(bucketify(agent.get_episodes_returns(), 120, np.mean)) for agent in agents]\n",
    "# plt.gca().legend((\"Random Idtiot XD\", \"Mighty Q Learning Agent\"))\n",
    "# plt.show()\n",
    "# # Saving\n",
    "# agent_0_file_path = os.path.join(ABS_PROJECT_ROOT_PATH, \"reinforcement_learning\", \"common\", f\"agent0_final.ai\")\n",
    "# agent_1_file_path = os.path.join(ABS_PROJECT_ROOT_PATH, \"reinforcement_learning\", \"common\", f\"agent1_final.ai\")\n",
    "# agents_file_paths = [agent_0_file_path, agent_1_file_path]\n",
    "# [agent.save(file_path) for (agent, file_path) in zip(agents, agents_file_paths)]"
   ]
  },
  {
   "cell_type": "code",
   "execution_count": 10,
   "metadata": {
    "pycharm": {
     "is_executing": false
    },
    "scrolled": true
   },
   "outputs": [],
   "source": [
    "# agents[1].action_value"
   ]
  },
  {
   "cell_type": "code",
   "execution_count": 11,
   "metadata": {
    "pycharm": {
     "is_executing": false
    }
   },
   "outputs": [],
   "source": [
    "# agents[1].policy"
   ]
  },
  {
   "cell_type": "code",
   "execution_count": 12,
   "metadata": {
    "pycharm": {
     "is_executing": false
    }
   },
   "outputs": [],
   "source": [
    "# print(agents[1].action_value)"
   ]
  },
  {
   "cell_type": "code",
   "execution_count": 13,
   "metadata": {
    "pycharm": {
     "is_executing": false
    }
   },
   "outputs": [],
   "source": [
    "# print(agents[1].policy)"
   ]
  },
  {
   "cell_type": "code",
   "execution_count": 14,
   "metadata": {
    "pycharm": {
     "is_executing": false,
     "name": "#%%\n"
    }
   },
   "outputs": [
    {
     "name": "stdout",
     "output_type": "stream",
     "text": [
      "Training platform has started!\n",
      "Clients have joined server!\n",
      "0\n",
      "Finished 100 episodes in 1.3184208869934082\n",
      "Training platform has been shutdown!\n"
     ]
    },
    {
     "data": {
      "image/png": "[encoded data removed]",
      "text/plain": [
       "<Figure size 432x288 with 2 Axes>"
      ]
     },
     "metadata": {
      "needs_background": "light"
     },
     "output_type": "display_data"
    },
    {
     "name": "stdout",
     "output_type": "stream",
     "text": [
      "Number of played episodes: 100\n",
      "Mean reward: -0.224010\n",
      "Number of taken actions: 351\n",
      "Mean action time: 0.001054\n"
     ]
    },
    {
     "data": {
      "text/plain": [
       "<reinforcement_learning.agents.basic_mc_agent.basic_mc_agent.BasicAgent at 0xebfff70>"
      ]
     },
     "execution_count": 14,
     "metadata": {},
     "output_type": "execute_result"
    }
   ],
   "source": [
    "number_of_episodes = 100\n",
    "with SimpleTraining(engine, agents) as st:\n",
    "    agents = st.train(number_of_episodes)\n",
    "\n",
    "agents[1]"
   ]
  },
  {
   "cell_type": "code",
   "execution_count": 19,
   "metadata": {},
   "outputs": [
    {
     "name": "stdout",
     "output_type": "stream",
     "text": [
      "Training platform has started!\n",
      "Clients have joined server!\n",
      "0\n",
      "Finished 100 episodes in 0.706932544708252\n",
      "Training platform has been shutdown!\n"
     ]
    },
    {
     "data": {
      "image/png": "[encoded data removed]",
      "text/plain": [
       "<Figure size 432x288 with 2 Axes>"
      ]
     },
     "metadata": {
      "needs_background": "light"
     },
     "output_type": "display_data"
    },
    {
     "name": "stdout",
     "output_type": "stream",
     "text": [
      "Number of played episodes: 100\n",
      "Mean reward: -0.320000\n",
      "Number of taken actions: 331\n",
      "Mean action time: 0.000754\n"
     ]
    },
    {
     "data": {
      "text/plain": [
       "<reinforcement_learning.agents.q_learning_agent.q_learning_agent.QLearningAgent at 0xebffcf0>"
      ]
     },
     "execution_count": 19,
     "metadata": {},
     "output_type": "execute_result"
    }
   ],
   "source": [
    "number_of_episodes = 100\n",
    "with SimpleTraining(engine, agents) as st:\n",
    "    agents = st.train(number_of_episodes)\n",
    "\n",
    "agents[1]"
   ]
  },
  {
   "cell_type": "code",
   "execution_count": 15,
   "metadata": {
    "pycharm": {
     "is_executing": false,
     "name": "#%%\n"
    }
   },
   "outputs": [],
   "source": [
    "# plt.plot(bucketify(agents[1].get_episodes_returns(), 10, np.mean))\n",
    "# plt.gca().legend((\"Random Idtiot XD\", \"Mighty Q Learning Agent\"))\n",
    "# plt.show()"
   ]
  },
  {
   "cell_type": "code",
   "execution_count": 16,
   "metadata": {
    "pycharm": {
     "is_executing": false,
     "name": "#%%\n"
    }
   },
   "outputs": [],
   "source": [
    "# import matplotlib.pyplot as plt\n",
    "# import numpy as np\n",
    "# import io\n",
    "\n",
    "# plt.ioff()  # turn off interactive mode\n",
    "        \n",
    "# fig = plt.figure(figsize=(2, 2))\n",
    "# ax = fig.add_subplot(111)\n",
    "# # ax.draw_shell(self, ax=ax)\n",
    "\n",
    "# a = np.random.rand(10)\n",
    "# ax.bar(range(len(a)), a)\n",
    "\n",
    "# output = io.StringIO()\n",
    "# # fig.show()\n",
    "# fig.savefig(output, format='svg')\n",
    "# # output\n",
    "\n",
    "# plt.ion()  # turn on interactive mode\n",
    "\n",
    "# output.getvalue()"
   ]
  },
  {
   "cell_type": "code",
   "execution_count": 17,
   "metadata": {
    "pycharm": {
     "is_executing": false,
     "name": "#%%\n"
    }
   },
   "outputs": [],
   "source": [
    "# agents[1].action_value"
   ]
  },
  {
   "cell_type": "code",
   "execution_count": null,
   "metadata": {
    "pycharm": {
     "name": "#%%\n"
    }
   },
   "outputs": [],
   "source": [
    "\n"
   ]
  }
 ],
 "metadata": {
  "kernelspec": {
   "display_name": "Python3.7-WinTacToe",
   "language": "python",
   "name": "python3.7-wintactoe"
  },
  "language_info": {
   "codemirror_mode": {
    "name": "ipython",
    "version": 3
   },
   "file_extension": ".py",
   "mimetype": "text/x-python",
   "name": "python",
   "nbconvert_exporter": "python",
   "pygments_lexer": "ipython3",
   "version": "3.7.1"
  },
  "pycharm": {
   "stem_cell": {
    "cell_type": "raw",
    "metadata": {
     "collapsed": false
    },
    "source": []
   }
  }
 },
 "nbformat": 4,
 "nbformat_minor": 2
}
