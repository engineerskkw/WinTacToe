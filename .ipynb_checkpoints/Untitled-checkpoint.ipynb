{
 "cells": [
  {
   "cell_type": "code",
   "execution_count": 20,
   "metadata": {},
   "outputs": [],
   "source": [
    "#BEGIN--------------------PROJECT-ROOT-PATH-APPENDING-------------------------#\n",
    "import sys, os\n",
    "REL_PROJECT_ROOT_PATH = \".\"\n",
    "ABS_FILE_DIR = os.path.abspath(os.getcwd())\n",
    "ABS_PROJECT_ROOT_PATH = os.path.normpath(os.path.join(ABS_FILE_DIR, REL_PROJECT_ROOT_PATH))\n",
    "sys.path.append(ABS_PROJECT_ROOT_PATH)\n",
    "#-------------------------PROJECT-ROOT-PATH-APPENDING----------------------END#"
   ]
  },
  {
   "cell_type": "code",
   "execution_count": 24,
   "metadata": {},
   "outputs": [],
   "source": [
    "from environments.tic_tac_toe.tic_tac_toe_engine import TicTacToeEngine\n",
    "from reinforcement_learning.base.base_agent import BaseAgent\n",
    "from reinforcement_learning.agents.basic_mc_agent.basic_mc_agent import BasicAgent\n",
    "from reinforcement_learning.agents.random_agent.random_agent import RandomAgent\n",
    "from reinforcement_learning.agents.n_step_agent.n_step_agent import NStepAgent\n",
    "from reinforcement_learning.agents.q_learning_agent.q_learning_agent import QLearningAgent\n",
    "from reinforcement_learning.common.simple_training import SimpleTraining"
   ]
  },
  {
   "cell_type": "code",
   "execution_count": 25,
   "metadata": {},
   "outputs": [],
   "source": [
    "engine = TicTacToeEngine(2, 3, 3)"
   ]
  },
  {
   "cell_type": "code",
   "execution_count": null,
   "metadata": {},
   "outputs": [],
   "source": [
    "# Loading\n",
    "# # You can also load previously saved agents from files:\n",
    "# agent_0_file_path = os.path.join(ABS_PROJECT_ROOT_PATH, \"training_platform\", \"examples\", \"agent0.ai\")\n",
    "# agent_1_file_path = os.path.join(ABS_PROJECT_ROOT_PATH, \"training_platform\", \"examples\", \"agent1.ai\")\n",
    "# agents_file_paths = [agent_0_file_path, agent_1_file_path]\n",
    "# agents = [BaseAgent.load(file_path) for file_path in agents_file_paths]\n",
    "\n",
    "# Saving\n",
    "# [agent.save(file_path) for (agent, file_path) in zip(agents, agents_file_paths)]"
   ]
  },
  {
   "cell_type": "code",
   "execution_count": 26,
   "metadata": {},
   "outputs": [],
   "source": [
    "agents = [RandomAgent(), BasicAgent]"
   ]
  },
  {
   "cell_type": "code",
   "execution_count": null,
   "metadata": {},
   "outputs": [],
   "source": [
    "number_of_episodes = 100\n",
    "with SimpleTraining(engine, agents) as st:\n",
    "    agents = st.train(number_of_episodes)\n",
    "\n",
    "\n",
    "\n",
    "plt.plot(agents[0].get_performance(50))\n",
    "plt.plot(agents[1].get_performance(50))\n",
    "plt.gca().legend((\"Q learning\", \"Random xd\"))\n",
    "plt.show()"
   ]
  }
 ],
 "metadata": {
  "kernelspec": {
   "display_name": "Python3.7-WinTacToe",
   "language": "python",
   "name": "python3.7-wintactoe"
  },
  "language_info": {
   "codemirror_mode": {
    "name": "ipython",
    "version": 3
   },
   "file_extension": ".py",
   "mimetype": "text/x-python",
   "name": "python",
   "nbconvert_exporter": "python",
   "pygments_lexer": "ipython3",
   "version": "3.7.1"
  }
 },
 "nbformat": 4,
 "nbformat_minor": 2
}
