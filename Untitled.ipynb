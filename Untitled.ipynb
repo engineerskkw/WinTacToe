{
 "cells": [
  {
   "cell_type": "code",
   "execution_count": 1,
   "metadata": {},
   "outputs": [],
   "source": [
    "#BEGIN--------------------PROJECT-ROOT-PATH-APPENDING-------------------------#\n",
    "import sys, os\n",
    "REL_PROJECT_ROOT_PATH = \".\"\n",
    "ABS_FILE_DIR = os.path.abspath(os.getcwd())\n",
    "ABS_PROJECT_ROOT_PATH = os.path.normpath(os.path.join(ABS_FILE_DIR, REL_PROJECT_ROOT_PATH))\n",
    "sys.path.append(ABS_PROJECT_ROOT_PATH)\n",
    "#-------------------------PROJECT-ROOT-PATH-APPENDING----------------------END#"
   ]
  },
  {
   "cell_type": "code",
   "execution_count": 2,
   "metadata": {},
   "outputs": [
    {
     "data": {
      "text/plain": [
       "'C:\\\\Users\\\\janka\\\\Desktop\\\\WinTacToe'"
      ]
     },
     "execution_count": 2,
     "metadata": {},
     "output_type": "execute_result"
    }
   ],
   "source": [
    "ABS_PROJECT_ROOT_PATH"
   ]
  },
  {
   "cell_type": "code",
   "execution_count": 3,
   "metadata": {},
   "outputs": [],
   "source": [
    "import matplotlib\n",
    "import matplotlib.pyplot as plt\n",
    "import numpy as np"
   ]
  },
  {
   "cell_type": "code",
   "execution_count": 4,
   "metadata": {},
   "outputs": [
    {
     "ename": "ModuleNotFoundError",
     "evalue": "No module named 'tests.mock'",
     "output_type": "error",
     "traceback": [
      "\u001b[1;31m---------------------------------------------------------------------------\u001b[0m",
      "\u001b[1;31mModuleNotFoundError\u001b[0m                       Traceback (most recent call last)",
      "\u001b[1;32m<ipython-input-4-6278ca6c2ce5>\u001b[0m in \u001b[0;36m<module>\u001b[1;34m\u001b[0m\n\u001b[0;32m      1\u001b[0m \u001b[1;32mfrom\u001b[0m \u001b[0menvironments\u001b[0m\u001b[1;33m.\u001b[0m\u001b[0mtic_tac_toe\u001b[0m\u001b[1;33m.\u001b[0m\u001b[0mtic_tac_toe_engine\u001b[0m \u001b[1;32mimport\u001b[0m \u001b[0mTicTacToeEngine\u001b[0m\u001b[1;33m\u001b[0m\u001b[1;33m\u001b[0m\u001b[0m\n\u001b[0;32m      2\u001b[0m \u001b[1;32mfrom\u001b[0m \u001b[0mreinforcement_learning\u001b[0m\u001b[1;33m.\u001b[0m\u001b[0mbase\u001b[0m\u001b[1;33m.\u001b[0m\u001b[0mbase_agent\u001b[0m \u001b[1;32mimport\u001b[0m \u001b[0mBaseAgent\u001b[0m\u001b[1;33m\u001b[0m\u001b[1;33m\u001b[0m\u001b[0m\n\u001b[1;32m----> 3\u001b[1;33m \u001b[1;32mfrom\u001b[0m \u001b[0mreinforcement_learning\u001b[0m\u001b[1;33m.\u001b[0m\u001b[0magents\u001b[0m\u001b[1;33m.\u001b[0m\u001b[0mbasic_mc_agent\u001b[0m\u001b[1;33m.\u001b[0m\u001b[0mbasic_mc_agent\u001b[0m \u001b[1;32mimport\u001b[0m \u001b[0mBasicAgent\u001b[0m\u001b[1;33m\u001b[0m\u001b[1;33m\u001b[0m\u001b[0m\n\u001b[0m\u001b[0;32m      4\u001b[0m \u001b[1;32mfrom\u001b[0m \u001b[0mreinforcement_learning\u001b[0m\u001b[1;33m.\u001b[0m\u001b[0magents\u001b[0m\u001b[1;33m.\u001b[0m\u001b[0mrandom_agent\u001b[0m\u001b[1;33m.\u001b[0m\u001b[0mrandom_agent\u001b[0m \u001b[1;32mimport\u001b[0m \u001b[0mRandomAgent\u001b[0m\u001b[1;33m\u001b[0m\u001b[1;33m\u001b[0m\u001b[0m\n\u001b[0;32m      5\u001b[0m \u001b[1;32mfrom\u001b[0m \u001b[0mreinforcement_learning\u001b[0m\u001b[1;33m.\u001b[0m\u001b[0magents\u001b[0m\u001b[1;33m.\u001b[0m\u001b[0mn_step_agent\u001b[0m\u001b[1;33m.\u001b[0m\u001b[0mn_step_agent\u001b[0m \u001b[1;32mimport\u001b[0m \u001b[0mNStepAgent\u001b[0m\u001b[1;33m\u001b[0m\u001b[1;33m\u001b[0m\u001b[0m\n",
      "\u001b[1;32m~\\Desktop\\WinTacToe\\reinforcement_learning\\agents\\basic_mc_agent\\basic_mc_agent.py\u001b[0m in \u001b[0;36m<module>\u001b[1;34m\u001b[0m\n\u001b[0;32m     12\u001b[0m \u001b[1;33m\u001b[0m\u001b[0m\n\u001b[0;32m     13\u001b[0m \u001b[1;32mfrom\u001b[0m \u001b[0mreinforcement_learning\u001b[0m\u001b[1;33m.\u001b[0m\u001b[0mbase\u001b[0m\u001b[1;33m.\u001b[0m\u001b[0mbase_agent\u001b[0m \u001b[1;32mimport\u001b[0m \u001b[0mBaseAgent\u001b[0m\u001b[1;33m\u001b[0m\u001b[1;33m\u001b[0m\u001b[0m\n\u001b[1;32m---> 14\u001b[1;33m \u001b[1;32mfrom\u001b[0m \u001b[0mreinforcement_learning\u001b[0m\u001b[1;33m.\u001b[0m\u001b[0magents\u001b[0m\u001b[1;33m.\u001b[0m\u001b[0mcommon\u001b[0m\u001b[1;33m.\u001b[0m\u001b[0mlazy_tabular_action_value\u001b[0m \u001b[1;32mimport\u001b[0m \u001b[0mLazyTabularActionValue\u001b[0m\u001b[1;33m\u001b[0m\u001b[1;33m\u001b[0m\u001b[0m\n\u001b[0m\u001b[0;32m     15\u001b[0m \u001b[1;32mfrom\u001b[0m \u001b[0mreinforcement_learning\u001b[0m\u001b[1;33m.\u001b[0m\u001b[0magents\u001b[0m\u001b[1;33m.\u001b[0m\u001b[0mbasic_mc_agent\u001b[0m\u001b[1;33m.\u001b[0m\u001b[0mepisode\u001b[0m \u001b[1;32mimport\u001b[0m \u001b[0mEpisode\u001b[0m\u001b[1;33m\u001b[0m\u001b[1;33m\u001b[0m\u001b[0m\n\u001b[0;32m     16\u001b[0m \u001b[1;32mfrom\u001b[0m \u001b[0mreinforcement_learning\u001b[0m\u001b[1;33m.\u001b[0m\u001b[0magents\u001b[0m\u001b[1;33m.\u001b[0m\u001b[0mcommon\u001b[0m\u001b[1;33m.\u001b[0m\u001b[0maction_value_derived_policy\u001b[0m \u001b[1;32mimport\u001b[0m \u001b[0mActionValueDerivedPolicy\u001b[0m\u001b[1;33m\u001b[0m\u001b[1;33m\u001b[0m\u001b[0m\n",
      "\u001b[1;32m~\\Desktop\\WinTacToe\\reinforcement_learning\\agents\\common\\lazy_tabular_action_value.py\u001b[0m in \u001b[0;36m<module>\u001b[1;34m\u001b[0m\n\u001b[0;32m     13\u001b[0m \u001b[1;32mfrom\u001b[0m \u001b[0mreinforcement_learning\u001b[0m\u001b[1;33m.\u001b[0m\u001b[0mbase\u001b[0m\u001b[1;33m.\u001b[0m\u001b[0mbase_action_value\u001b[0m \u001b[1;32mimport\u001b[0m \u001b[0mBaseActionValue\u001b[0m\u001b[1;33m\u001b[0m\u001b[1;33m\u001b[0m\u001b[0m\n\u001b[0;32m     14\u001b[0m \u001b[1;33m\u001b[0m\u001b[0m\n\u001b[1;32m---> 15\u001b[1;33m \u001b[1;32mfrom\u001b[0m \u001b[0mtests\u001b[0m\u001b[1;33m.\u001b[0m\u001b[0mmock\u001b[0m\u001b[1;33m.\u001b[0m\u001b[0mmock_action\u001b[0m \u001b[1;32mimport\u001b[0m \u001b[0mMockAction\u001b[0m\u001b[1;33m\u001b[0m\u001b[1;33m\u001b[0m\u001b[0m\n\u001b[0m\u001b[0;32m     16\u001b[0m \u001b[1;32mfrom\u001b[0m \u001b[0mtests\u001b[0m\u001b[1;33m.\u001b[0m\u001b[0mmock\u001b[0m\u001b[1;33m.\u001b[0m\u001b[0mmock_state\u001b[0m \u001b[1;32mimport\u001b[0m \u001b[0mMockState\u001b[0m\u001b[1;33m\u001b[0m\u001b[1;33m\u001b[0m\u001b[0m\n\u001b[0;32m     17\u001b[0m \u001b[1;33m\u001b[0m\u001b[0m\n",
      "\u001b[1;31mModuleNotFoundError\u001b[0m: No module named 'tests.mock'"
     ]
    }
   ],
   "source": [
    "from environments.tic_tac_toe.tic_tac_toe_engine import TicTacToeEngine\n",
    "from reinforcement_learning.base.base_agent import BaseAgent\n",
    "from reinforcement_learning.agents.basic_mc_agent.basic_mc_agent import BasicAgent\n",
    "from reinforcement_learning.agents.random_agent.random_agent import RandomAgent\n",
    "from reinforcement_learning.agents.n_step_agent.n_step_agent import NStepAgent\n",
    "from reinforcement_learning.agents.q_learning_agent.q_learning_agent import QLearningAgent\n",
    "from reinforcement_learning.common.simple_training import SimpleTraining\n",
    "from reinforcement_learning.agents.common.agent_utils import bucketify"
   ]
  },
  {
   "cell_type": "code",
   "execution_count": null,
   "metadata": {},
   "outputs": [],
   "source": [
    "# Loading\n",
    "# # You can also load previously saved agents from files:\n",
    "# agent_0_file_path = os.path.join(ABS_PROJECT_ROOT_PATH, \"training_platform\", \"examples\", \"agent0.ai\")\n",
    "# agent_1_file_path = os.path.join(ABS_PROJECT_ROOT_PATH, \"training_platform\", \"examples\", \"agent1.ai\")\n",
    "# agents_file_paths = [agent_0_file_path, agent_1_file_path]\n",
    "# agents = [BaseAgent.load(file_path) for file_path in agents_file_paths]\n",
    "\n",
    "# Saving\n",
    "# [agent.save(file_path) for (agent, file_path) in zip(agents, agents_file_paths)]"
   ]
  },
  {
   "cell_type": "code",
   "execution_count": null,
   "metadata": {},
   "outputs": [],
   "source": [
    "engine = TicTacToeEngine(2, 3, 3)"
   ]
  },
  {
   "cell_type": "code",
   "execution_count": null,
   "metadata": {},
   "outputs": [],
   "source": [
    "agents = [RandomAgent(), BasicAgent()]"
   ]
  },
  {
   "cell_type": "code",
   "execution_count": null,
   "metadata": {},
   "outputs": [],
   "source": [
    "number_of_episodes = 100\n",
    "with SimpleTraining(engine, agents) as st:\n",
    "    agents = st.train(number_of_episodes)"
   ]
  },
  {
   "cell_type": "code",
   "execution_count": null,
   "metadata": {},
   "outputs": [],
   "source": [
    "[plt.plot(bucketify(agent.get_episodes_returns(), 10, np.mean)) for agent in agents]\n",
    "plt.gca().legend((\"Q learning\", \"Random xd\"))\n",
    "plt.show()"
   ]
  },
  {
   "cell_type": "code",
   "execution_count": null,
   "metadata": {
    "scrolled": true
   },
   "outputs": [],
   "source": [
    "print(agents[1].returns)"
   ]
  },
  {
   "cell_type": "code",
   "execution_count": null,
   "metadata": {},
   "outputs": [],
   "source": []
  }
 ],
 "metadata": {
  "kernelspec": {
   "display_name": "Python3.7-WinTacToe",
   "language": "python",
   "name": "python3.7-wintactoe"
  },
  "language_info": {
   "codemirror_mode": {
    "name": "ipython",
    "version": 3
   },
   "file_extension": ".py",
   "mimetype": "text/x-python",
   "name": "python",
   "nbconvert_exporter": "python",
   "pygments_lexer": "ipython3",
   "version": "3.7.1"
  }
 },
 "nbformat": 4,
 "nbformat_minor": 2
}
